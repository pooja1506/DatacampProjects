{
 "cells": [
  {
   "cell_type": "markdown",
   "metadata": {},
   "source": [
    "Importing Required Libraries"
   ]
  },
  {
   "cell_type": "code",
   "execution_count": 1,
   "metadata": {},
   "outputs": [],
   "source": [
    "import pandas as pd #for dataframes\n",
    "import numpy as np\n",
    "%matplotlib inline\n",
    "import matplotlib.pyplot as plt #for plotting graphs\n",
    "import seaborn as sns  #for plotting graphs"
   ]
  },
  {
   "cell_type": "markdown",
   "metadata": {},
   "source": [
    "Extracting data set using pandas"
   ]
  },
  {
   "cell_type": "code",
   "execution_count": 5,
   "metadata": {},
   "outputs": [
    {
     "data": {
      "text/html": [
       "<div>\n",
       "<style scoped>\n",
       "    .dataframe tbody tr th:only-of-type {\n",
       "        vertical-align: middle;\n",
       "    }\n",
       "\n",
       "    .dataframe tbody tr th {\n",
       "        vertical-align: top;\n",
       "    }\n",
       "\n",
       "    .dataframe thead th {\n",
       "        text-align: right;\n",
       "    }\n",
       "</style>\n",
       "<table border=\"1\" class=\"dataframe\">\n",
       "  <thead>\n",
       "    <tr style=\"text-align: right;\">\n",
       "      <th></th>\n",
       "      <th>NAME</th>\n",
       "      <th>DEPARTMENT NAME</th>\n",
       "      <th>TITLE</th>\n",
       "      <th>REGULAR</th>\n",
       "      <th>RETRO</th>\n",
       "      <th>OTHER</th>\n",
       "      <th>OVERTIME</th>\n",
       "      <th>INJURED</th>\n",
       "      <th>DETAIL</th>\n",
       "      <th>QUINN/EDUCATION INCENTIVE</th>\n",
       "      <th>TOTAL EARNINGS</th>\n",
       "      <th>POSTAL</th>\n",
       "    </tr>\n",
       "  </thead>\n",
       "  <tbody>\n",
       "    <tr>\n",
       "      <th>0</th>\n",
       "      <td>Miller,Francis T</td>\n",
       "      <td>Boston Police Department</td>\n",
       "      <td>Police Lieutenant (Det)</td>\n",
       "      <td>$129,530.83</td>\n",
       "      <td>NaN</td>\n",
       "      <td>$13,694.50</td>\n",
       "      <td>$8,150.41</td>\n",
       "      <td>NaN</td>\n",
       "      <td>NaN</td>\n",
       "      <td>$24,286.86</td>\n",
       "      <td>$175,662.60</td>\n",
       "      <td>2043</td>\n",
       "    </tr>\n",
       "    <tr>\n",
       "      <th>1</th>\n",
       "      <td>Sullivan,Patrice Murphy</td>\n",
       "      <td>Boston Police Department</td>\n",
       "      <td>Office Manager</td>\n",
       "      <td>$56,921.80</td>\n",
       "      <td>NaN</td>\n",
       "      <td>$3,594.65</td>\n",
       "      <td>$1,548.16</td>\n",
       "      <td>NaN</td>\n",
       "      <td>NaN</td>\n",
       "      <td>NaN</td>\n",
       "      <td>$62,064.61</td>\n",
       "      <td>2132</td>\n",
       "    </tr>\n",
       "    <tr>\n",
       "      <th>2</th>\n",
       "      <td>O'Hara,Michael C</td>\n",
       "      <td>Boston Police Department</td>\n",
       "      <td>Police Lieutenant</td>\n",
       "      <td>$124,056.64</td>\n",
       "      <td>NaN</td>\n",
       "      <td>$6,432.23</td>\n",
       "      <td>$29,043.67</td>\n",
       "      <td>NaN</td>\n",
       "      <td>$22,385.00</td>\n",
       "      <td>$23,260.69</td>\n",
       "      <td>$205,178.23</td>\n",
       "      <td>2021</td>\n",
       "    </tr>\n",
       "    <tr>\n",
       "      <th>3</th>\n",
       "      <td>Whalen,Richard L</td>\n",
       "      <td>Boston Police Department</td>\n",
       "      <td>Police Detective</td>\n",
       "      <td>$94,956.25</td>\n",
       "      <td>$4,985.32</td>\n",
       "      <td>$13,591.93</td>\n",
       "      <td>$85,419.22</td>\n",
       "      <td>$58.03</td>\n",
       "      <td>$16,330.00</td>\n",
       "      <td>$19,971.01</td>\n",
       "      <td>$235,311.76</td>\n",
       "      <td>2062</td>\n",
       "    </tr>\n",
       "    <tr>\n",
       "      <th>4</th>\n",
       "      <td>Kelly,Ann Marie</td>\n",
       "      <td>Boston Police Department</td>\n",
       "      <td>Tape Librarian I (BPD)</td>\n",
       "      <td>$69,995.34</td>\n",
       "      <td>NaN</td>\n",
       "      <td>$300.00</td>\n",
       "      <td>$7,961.08</td>\n",
       "      <td>NaN</td>\n",
       "      <td>NaN</td>\n",
       "      <td>NaN</td>\n",
       "      <td>$78,256.42</td>\n",
       "      <td>2190</td>\n",
       "    </tr>\n",
       "  </tbody>\n",
       "</table>\n",
       "</div>"
      ],
      "text/plain": [
       "                      NAME           DEPARTMENT NAME                    TITLE  \\\n",
       "0         Miller,Francis T  Boston Police Department  Police Lieutenant (Det)   \n",
       "1  Sullivan,Patrice Murphy  Boston Police Department           Office Manager   \n",
       "2         O'Hara,Michael C  Boston Police Department        Police Lieutenant   \n",
       "3         Whalen,Richard L  Boston Police Department         Police Detective   \n",
       "4          Kelly,Ann Marie  Boston Police Department   Tape Librarian I (BPD)   \n",
       "\n",
       "        REGULAR       RETRO        OTHER     OVERTIME  INJURED       DETAIL  \\\n",
       "0  $129,530.83          NaN  $13,694.50    $8,150.41       NaN          NaN   \n",
       "1   $56,921.80          NaN   $3,594.65    $1,548.16       NaN          NaN   \n",
       "2  $124,056.64          NaN   $6,432.23   $29,043.67       NaN  $22,385.00    \n",
       "3   $94,956.25   $4,985.32   $13,591.93   $85,419.22   $58.03   $16,330.00    \n",
       "4   $69,995.34          NaN     $300.00    $7,961.08       NaN          NaN   \n",
       "\n",
       "  QUINN/EDUCATION INCENTIVE TOTAL EARNINGS POSTAL  \n",
       "0               $24,286.86    $175,662.60    2043  \n",
       "1                       NaN    $62,064.61    2132  \n",
       "2               $23,260.69    $205,178.23    2021  \n",
       "3               $19,971.01    $235,311.76    2062  \n",
       "4                       NaN    $78,256.42    2190  "
      ]
     },
     "execution_count": 5,
     "metadata": {},
     "output_type": "execute_result"
    }
   ],
   "source": [
    "# Reading the Data set\n",
    "df_report_2017 = pd.read_csv(\"earnings2017.csv\")\n",
    "df_report_2017.head()"
   ]
  },
  {
   "cell_type": "markdown",
   "metadata": {},
   "source": [
    "Cleaning the data set"
   ]
  },
  {
   "cell_type": "code",
   "execution_count": 7,
   "metadata": {},
   "outputs": [
    {
     "name": "stdout",
     "output_type": "stream",
     "text": [
      "<class 'pandas.core.frame.DataFrame'>\n",
      "RangeIndex: 22245 entries, 0 to 22244\n",
      "Data columns (total 12 columns):\n",
      " #   Column                     Non-Null Count  Dtype \n",
      "---  ------                     --------------  ----- \n",
      " 0   NAME                       22245 non-null  object\n",
      " 1   DEPARTMENT NAME            22245 non-null  object\n",
      " 2   TITLE                      22245 non-null  object\n",
      " 3   REGULAR                    21640 non-null  object\n",
      " 4   RETRO                      3258 non-null   object\n",
      " 5   OTHER                      13083 non-null  object\n",
      " 6   OVERTIME                   6783 non-null   object\n",
      " 7   INJURED                    1283 non-null   object\n",
      " 8   DETAIL                     2423 non-null   object\n",
      " 9   QUINN/EDUCATION INCENTIVE  1259 non-null   object\n",
      " 10  TOTAL EARNINGS             22245 non-null  object\n",
      " 11  POSTAL                     22242 non-null  object\n",
      "dtypes: object(12)\n",
      "memory usage: 2.0+ MB\n",
      "None\n",
      "                    NAME           DEPARTMENT NAME    TITLE     REGULAR  \\\n",
      "count              22245                     22245    22245       21640   \n",
      "unique             22166                       227     1444       17149   \n",
      "top     Sullivan,Michael  Boston Police Department  Teacher  $8,748.06    \n",
      "freq                   4                      3149     5437         100   \n",
      "\n",
      "          RETRO     OTHER OVERTIME INJURED    DETAIL  \\\n",
      "count      3258     13083     6783    1283      2423   \n",
      "unique     2963      5438     6711    1234      1751   \n",
      "top     $95.30   $800.00    $0.00   $0.00   $368.00    \n",
      "freq        106       793        8       4        33   \n",
      "\n",
      "       QUINN/EDUCATION INCENTIVE TOTAL EARNINGS POSTAL  \n",
      "count                       1259          22245  22242  \n",
      "unique                       693          20759    550  \n",
      "top                  $14,441.63     $19,587.63    2124  \n",
      "freq                          24             79   1836  \n",
      "['NAME', 'DEPARTMENT NAME', 'TITLE', 'REGULAR', 'RETRO', 'OTHER', 'OVERTIME', 'INJURED', 'DETAIL', 'QUINN/EDUCATION INCENTIVE', 'TOTAL EARNINGS', 'POSTAL']\n",
      "(22245, 12)\n"
     ]
    }
   ],
   "source": [
    "# It gives total count of values present but not null counts\n",
    "print(df_report_2017.info())\n",
    "\n",
    "# Describing the data set\n",
    "print(df_report_2017.describe())\n",
    "\n",
    "# Describing the dataset columns\n",
    "print(df_report_2017.columns.tolist())\n",
    "\n",
    "# The shape of the dataset-rows*columns\n",
    "print(df_report_2017.shape)"
   ]
  },
  {
   "cell_type": "markdown",
   "metadata": {},
   "source": [
    "Renaming Inconsistent Column names for better understanding"
   ]
  },
  {
   "cell_type": "code",
   "execution_count": 8,
   "metadata": {},
   "outputs": [
    {
     "data": {
      "text/html": [
       "<div>\n",
       "<style scoped>\n",
       "    .dataframe tbody tr th:only-of-type {\n",
       "        vertical-align: middle;\n",
       "    }\n",
       "\n",
       "    .dataframe tbody tr th {\n",
       "        vertical-align: top;\n",
       "    }\n",
       "\n",
       "    .dataframe thead th {\n",
       "        text-align: right;\n",
       "    }\n",
       "</style>\n",
       "<table border=\"1\" class=\"dataframe\">\n",
       "  <thead>\n",
       "    <tr style=\"text-align: right;\">\n",
       "      <th></th>\n",
       "      <th>FULL NAME</th>\n",
       "      <th>DEPARTMENT NAME</th>\n",
       "      <th>EMPLOYEE POSITION TITLE</th>\n",
       "      <th>BASE PAY ($)</th>\n",
       "      <th>RETRO PAY ($)</th>\n",
       "      <th>OTHER PAY ($)</th>\n",
       "      <th>OVERTIME PAY ($)</th>\n",
       "      <th>INJURED PAY ($)</th>\n",
       "      <th>DETAIL PAY ($)</th>\n",
       "      <th>QUINN/EDUCATION INCENTIVE ($)</th>\n",
       "      <th>TOTAL EARNINGS ($)</th>\n",
       "      <th>POSTAL CODE</th>\n",
       "    </tr>\n",
       "  </thead>\n",
       "  <tbody>\n",
       "    <tr>\n",
       "      <th>0</th>\n",
       "      <td>Miller,Francis T</td>\n",
       "      <td>Boston Police Department</td>\n",
       "      <td>Police Lieutenant (Det)</td>\n",
       "      <td>$129,530.83</td>\n",
       "      <td>NaN</td>\n",
       "      <td>$13,694.50</td>\n",
       "      <td>$8,150.41</td>\n",
       "      <td>NaN</td>\n",
       "      <td>NaN</td>\n",
       "      <td>$24,286.86</td>\n",
       "      <td>$175,662.60</td>\n",
       "      <td>2043</td>\n",
       "    </tr>\n",
       "    <tr>\n",
       "      <th>1</th>\n",
       "      <td>Sullivan,Patrice Murphy</td>\n",
       "      <td>Boston Police Department</td>\n",
       "      <td>Office Manager</td>\n",
       "      <td>$56,921.80</td>\n",
       "      <td>NaN</td>\n",
       "      <td>$3,594.65</td>\n",
       "      <td>$1,548.16</td>\n",
       "      <td>NaN</td>\n",
       "      <td>NaN</td>\n",
       "      <td>NaN</td>\n",
       "      <td>$62,064.61</td>\n",
       "      <td>2132</td>\n",
       "    </tr>\n",
       "    <tr>\n",
       "      <th>2</th>\n",
       "      <td>O'Hara,Michael C</td>\n",
       "      <td>Boston Police Department</td>\n",
       "      <td>Police Lieutenant</td>\n",
       "      <td>$124,056.64</td>\n",
       "      <td>NaN</td>\n",
       "      <td>$6,432.23</td>\n",
       "      <td>$29,043.67</td>\n",
       "      <td>NaN</td>\n",
       "      <td>$22,385.00</td>\n",
       "      <td>$23,260.69</td>\n",
       "      <td>$205,178.23</td>\n",
       "      <td>2021</td>\n",
       "    </tr>\n",
       "    <tr>\n",
       "      <th>3</th>\n",
       "      <td>Whalen,Richard L</td>\n",
       "      <td>Boston Police Department</td>\n",
       "      <td>Police Detective</td>\n",
       "      <td>$94,956.25</td>\n",
       "      <td>$4,985.32</td>\n",
       "      <td>$13,591.93</td>\n",
       "      <td>$85,419.22</td>\n",
       "      <td>$58.03</td>\n",
       "      <td>$16,330.00</td>\n",
       "      <td>$19,971.01</td>\n",
       "      <td>$235,311.76</td>\n",
       "      <td>2062</td>\n",
       "    </tr>\n",
       "    <tr>\n",
       "      <th>4</th>\n",
       "      <td>Kelly,Ann Marie</td>\n",
       "      <td>Boston Police Department</td>\n",
       "      <td>Tape Librarian I (BPD)</td>\n",
       "      <td>$69,995.34</td>\n",
       "      <td>NaN</td>\n",
       "      <td>$300.00</td>\n",
       "      <td>$7,961.08</td>\n",
       "      <td>NaN</td>\n",
       "      <td>NaN</td>\n",
       "      <td>NaN</td>\n",
       "      <td>$78,256.42</td>\n",
       "      <td>2190</td>\n",
       "    </tr>\n",
       "  </tbody>\n",
       "</table>\n",
       "</div>"
      ],
      "text/plain": [
       "                 FULL NAME           DEPARTMENT NAME  EMPLOYEE POSITION TITLE  \\\n",
       "0         Miller,Francis T  Boston Police Department  Police Lieutenant (Det)   \n",
       "1  Sullivan,Patrice Murphy  Boston Police Department           Office Manager   \n",
       "2         O'Hara,Michael C  Boston Police Department        Police Lieutenant   \n",
       "3         Whalen,Richard L  Boston Police Department         Police Detective   \n",
       "4          Kelly,Ann Marie  Boston Police Department   Tape Librarian I (BPD)   \n",
       "\n",
       "   BASE PAY ($) RETRO PAY ($) OTHER PAY ($) OVERTIME PAY ($) INJURED PAY ($)  \\\n",
       "0  $129,530.83            NaN   $13,694.50        $8,150.41              NaN   \n",
       "1   $56,921.80            NaN    $3,594.65        $1,548.16              NaN   \n",
       "2  $124,056.64            NaN    $6,432.23       $29,043.67              NaN   \n",
       "3   $94,956.25     $4,985.32    $13,591.93       $85,419.22          $58.03    \n",
       "4   $69,995.34            NaN      $300.00        $7,961.08              NaN   \n",
       "\n",
       "  DETAIL PAY ($) QUINN/EDUCATION INCENTIVE ($) TOTAL EARNINGS ($) POSTAL CODE  \n",
       "0            NaN                   $24,286.86        $175,662.60         2043  \n",
       "1            NaN                           NaN        $62,064.61         2132  \n",
       "2    $22,385.00                    $23,260.69        $205,178.23         2021  \n",
       "3    $16,330.00                    $19,971.01        $235,311.76         2062  \n",
       "4            NaN                           NaN        $78,256.42         2190  "
      ]
     },
     "execution_count": 8,
     "metadata": {},
     "output_type": "execute_result"
    }
   ],
   "source": [
    "# Renaming the columns which makes easy to identify\n",
    "df_report_2017 = df_report_2017.rename(columns = {'NAME':'FULL NAME', 'TITLE':'EMPLOYEE POSITION TITLE', 'REGULAR':'BASE PAY ($)', 'RETRO':'RETRO PAY ($)', 'OTHER':'OTHER PAY ($)', 'OVERTIME':'OVERTIME PAY ($)', 'INJURED':'INJURED PAY ($)', 'DETAIL':'DETAIL PAY ($)', 'QUINN/EDUCATION INCENTIVE':'QUINN/EDUCATION INCENTIVE ($)', 'TOTAL EARNINGS':'TOTAL EARNINGS ($)', 'POSTAL':'POSTAL CODE'})\n",
    "df_report_2017.head()"
   ]
  },
  {
   "cell_type": "markdown",
   "metadata": {},
   "source": [
    "Checking the duplicates"
   ]
  },
  {
   "cell_type": "code",
   "execution_count": 25,
   "metadata": {},
   "outputs": [
    {
     "data": {
      "text/plain": [
       "Sullivan,Michael      4\n",
       "Kelly,Michael         3\n",
       "Kelly,John F          2\n",
       "Torres,Elizabeth      2\n",
       "Foley,William P       2\n",
       "                     ..\n",
       "Curtis,Christopher    2\n",
       "Smith,Robert          2\n",
       "Kelley,Susan          2\n",
       "Colon,Francisco       2\n",
       "Finnigan,Patricia     2\n",
       "Name: FULL NAME, Length: 76, dtype: int64"
      ]
     },
     "metadata": {},
     "output_type": "display_data"
    },
    {
     "name": "stdout",
     "output_type": "stream",
     "text": [
      "0        False\n",
      "1        False\n",
      "2        False\n",
      "3        False\n",
      "4        False\n",
      "         ...  \n",
      "22240    False\n",
      "22241     True\n",
      "22242    False\n",
      "22243    False\n",
      "22244    False\n",
      "Length: 22245, dtype: bool\n"
     ]
    },
    {
     "data": {
      "text/plain": [
       "(22245, 12)"
      ]
     },
     "metadata": {},
     "output_type": "display_data"
    },
    {
     "data": {
      "text/plain": [
       "(22245, 12)"
      ]
     },
     "metadata": {},
     "output_type": "display_data"
    }
   ],
   "source": [
    "# checking whether the columns are unique or not\n",
    "df_report_2017['FULL NAME'].is_unique\n",
    "df_report_2017['DEPARTMENT NAME'].is_unique\n",
    "df_report_2017['POSTAL CODE'].is_unique\n",
    "\n",
    "# duplicates in 'NAME' column with different postal codes\n",
    "names = df_report_2017['FULL NAME'].value_counts()\n",
    "display(names[names>1])\n",
    "\n",
    "# This tells there are no duplicate rows because it takes the entire row. We used 'apply' fuunction to use shape module\n",
    "df_report_2017.groupby(df_report_2017['FULL NAME']).apply(np.shape)\n",
    "print(df_report_2017.duplicated('FULL NAME'))\n",
    "\n",
    "# checking the duplicates by droping the duplicates and finding the shape of the data set after dropping duplicates\n",
    "display(df_report_2017.shape)  #before dropping duplicates\n",
    "df_report_2017 = df_report_2017.drop_duplicates()\n",
    "df_report_2017.reset_index(drop=True, inplace=True)\n",
    "display(df_report_2017.shape)\n"
   ]
  },
  {
   "cell_type": "markdown",
   "metadata": {},
   "source": [
    "Cleaning unwanted Data in First 3 columns"
   ]
  },
  {
   "cell_type": "code",
   "execution_count": 29,
   "metadata": {},
   "outputs": [
    {
     "data": {
      "text/html": [
       "<div>\n",
       "<style scoped>\n",
       "    .dataframe tbody tr th:only-of-type {\n",
       "        vertical-align: middle;\n",
       "    }\n",
       "\n",
       "    .dataframe tbody tr th {\n",
       "        vertical-align: top;\n",
       "    }\n",
       "\n",
       "    .dataframe thead th {\n",
       "        text-align: right;\n",
       "    }\n",
       "</style>\n",
       "<table border=\"1\" class=\"dataframe\">\n",
       "  <thead>\n",
       "    <tr style=\"text-align: right;\">\n",
       "      <th></th>\n",
       "      <th>FULL NAME</th>\n",
       "      <th>DEPARTMENT NAME</th>\n",
       "      <th>EMPLOYEE POSITION TITLE</th>\n",
       "      <th>BASE PAY ($)</th>\n",
       "      <th>RETRO PAY ($)</th>\n",
       "      <th>OTHER PAY ($)</th>\n",
       "      <th>OVERTIME PAY ($)</th>\n",
       "      <th>INJURED PAY ($)</th>\n",
       "      <th>DETAIL PAY ($)</th>\n",
       "      <th>QUINN/EDUCATION INCENTIVE ($)</th>\n",
       "      <th>TOTAL EARNINGS ($)</th>\n",
       "      <th>POSTAL CODE</th>\n",
       "    </tr>\n",
       "  </thead>\n",
       "  <tbody>\n",
       "    <tr>\n",
       "      <th>18371</th>\n",
       "      <td>Nicholson Anthony</td>\n",
       "      <td>BPS Cl10 Lee Academy</td>\n",
       "      <td>Surround Care Paraprofessional</td>\n",
       "      <td>$42,189.22</td>\n",
       "      <td>NaN</td>\n",
       "      <td>$2,200.00</td>\n",
       "      <td>NaN</td>\n",
       "      <td>NaN</td>\n",
       "      <td>NaN</td>\n",
       "      <td>NaN</td>\n",
       "      <td>$44,389.22</td>\n",
       "      <td>2119</td>\n",
       "    </tr>\n",
       "  </tbody>\n",
       "</table>\n",
       "</div>"
      ],
      "text/plain": [
       "               FULL NAME       DEPARTMENT NAME  \\\n",
       "18371  Nicholson Anthony  BPS Cl10 Lee Academy   \n",
       "\n",
       "              EMPLOYEE POSITION TITLE BASE PAY ($) RETRO PAY ($)  \\\n",
       "18371  Surround Care Paraprofessional  $42,189.22            NaN   \n",
       "\n",
       "      OTHER PAY ($) OVERTIME PAY ($) INJURED PAY ($) DETAIL PAY ($)  \\\n",
       "18371    $2,200.00               NaN             NaN            NaN   \n",
       "\n",
       "      QUINN/EDUCATION INCENTIVE ($) TOTAL EARNINGS ($) POSTAL CODE  \n",
       "18371                           NaN        $44,389.22         2119  "
      ]
     },
     "metadata": {},
     "output_type": "display_data"
    }
   ],
   "source": [
    "# Removing any special symbols present in first 3 columns of data set\n",
    "df_report_2017['EMPLOYEE POSITION TITLE'] = df_report_2017['EMPLOYEE POSITION TITLE'].str.replace(r\"\\(.*\\)\", \"\")\n",
    "df_report_2017['DEPARTMENT NAME'] = df_report_2017['DEPARTMENT NAME'].str.replace(r\"\\(.*\\)\", \"\")\n",
    "df_report_2017['EMPLOYEE POSITION TITLE'] = df_report_2017['EMPLOYEE POSITION TITLE'].str.split('/').str[0]\n",
    "df_report_2017['EMPLOYEE POSITION TITLE'] = df_report_2017['EMPLOYEE POSITION TITLE'].str.split('-').str[0]\n",
    "df_report_2017['EMPLOYEE POSITION TITLE'] = df_report_2017['EMPLOYEE POSITION TITLE'].str.split(',').str[0]\n",
    "df_report_2017['DEPARTMENT NAME'] = df_report_2017['DEPARTMENT NAME'].str.split('/').str[0]\n",
    "df_report_2017['DEPARTMENT NAME'] = df_report_2017['DEPARTMENT NAME'].str.split('-').str[0]\n",
    "\n",
    "# Removing any special characters present in Full name, department name and Employee position title\n",
    "df_report_2017[['DEPARTMENT NAME', 'EMPLOYEE POSITION TITLE']] = df_report_2017[['DEPARTMENT NAME', 'EMPLOYEE POSITION TITLE']].replace({'\\$': '', ',': '','\\##':'','\\###':'','\"\"':'','#':''}, regex=True)\n",
    "\n",
    "# Removing the ',.' present in the FULL NAME of a data set\n",
    "df_report_2017['FULL NAME'] = df_report_2017['FULL NAME'].str.replace(\",\", \" \")\n",
    "df_report_2017['FULL NAME'] = df_report_2017['FULL NAME'].str.replace(\".\", \" \")\n",
    "\n",
    "#checking whether the symbols are removed or not\n",
    "display(df_report_2017[df_report_2017['FULL NAME']=='Nicholson Anthony'])"
   ]
  },
  {
   "cell_type": "markdown",
   "metadata": {},
   "source": [
    "Cleaning unwanted data in Postal code column"
   ]
  },
  {
   "cell_type": "code",
   "execution_count": 34,
   "metadata": {},
   "outputs": [
    {
     "data": {
      "text/html": [
       "<div>\n",
       "<style scoped>\n",
       "    .dataframe tbody tr th:only-of-type {\n",
       "        vertical-align: middle;\n",
       "    }\n",
       "\n",
       "    .dataframe tbody tr th {\n",
       "        vertical-align: top;\n",
       "    }\n",
       "\n",
       "    .dataframe thead th {\n",
       "        text-align: right;\n",
       "    }\n",
       "</style>\n",
       "<table border=\"1\" class=\"dataframe\">\n",
       "  <thead>\n",
       "    <tr style=\"text-align: right;\">\n",
       "      <th></th>\n",
       "      <th>FULL NAME</th>\n",
       "      <th>DEPARTMENT NAME</th>\n",
       "      <th>EMPLOYEE POSITION TITLE</th>\n",
       "      <th>BASE PAY ($)</th>\n",
       "      <th>RETRO PAY ($)</th>\n",
       "      <th>OTHER PAY ($)</th>\n",
       "      <th>OVERTIME PAY ($)</th>\n",
       "      <th>INJURED PAY ($)</th>\n",
       "      <th>DETAIL PAY ($)</th>\n",
       "      <th>QUINN/EDUCATION INCENTIVE ($)</th>\n",
       "      <th>TOTAL EARNINGS ($)</th>\n",
       "      <th>POSTAL CODE</th>\n",
       "    </tr>\n",
       "  </thead>\n",
       "  <tbody>\n",
       "    <tr>\n",
       "      <th>6818</th>\n",
       "      <td>Morrison June</td>\n",
       "      <td>BPS Business Service</td>\n",
       "      <td>BPS Worker's Comp Job Class</td>\n",
       "      <td>NaN</td>\n",
       "      <td>NaN</td>\n",
       "      <td>NaN</td>\n",
       "      <td>NaN</td>\n",
       "      <td>$67,171.05</td>\n",
       "      <td>NaN</td>\n",
       "      <td>NaN</td>\n",
       "      <td>$67,171.05</td>\n",
       "      <td>B1S 3</td>\n",
       "    </tr>\n",
       "  </tbody>\n",
       "</table>\n",
       "</div>"
      ],
      "text/plain": [
       "          FULL NAME       DEPARTMENT NAME      EMPLOYEE POSITION TITLE  \\\n",
       "6818  Morrison June  BPS Business Service  BPS Worker's Comp Job Class   \n",
       "\n",
       "     BASE PAY ($) RETRO PAY ($) OTHER PAY ($) OVERTIME PAY ($)  \\\n",
       "6818          NaN           NaN           NaN              NaN   \n",
       "\n",
       "     INJURED PAY ($) DETAIL PAY ($) QUINN/EDUCATION INCENTIVE ($)  \\\n",
       "6818     $67,171.05             NaN                           NaN   \n",
       "\n",
       "     TOTAL EARNINGS ($) POSTAL CODE  \n",
       "6818        $67,171.05        B1S 3  "
      ]
     },
     "metadata": {},
     "output_type": "display_data"
    },
    {
     "data": {
      "text/html": [
       "<div>\n",
       "<style scoped>\n",
       "    .dataframe tbody tr th:only-of-type {\n",
       "        vertical-align: middle;\n",
       "    }\n",
       "\n",
       "    .dataframe tbody tr th {\n",
       "        vertical-align: top;\n",
       "    }\n",
       "\n",
       "    .dataframe thead th {\n",
       "        text-align: right;\n",
       "    }\n",
       "</style>\n",
       "<table border=\"1\" class=\"dataframe\">\n",
       "  <thead>\n",
       "    <tr style=\"text-align: right;\">\n",
       "      <th></th>\n",
       "      <th>FULL NAME</th>\n",
       "      <th>DEPARTMENT NAME</th>\n",
       "      <th>EMPLOYEE POSITION TITLE</th>\n",
       "      <th>BASE PAY ($)</th>\n",
       "      <th>RETRO PAY ($)</th>\n",
       "      <th>OTHER PAY ($)</th>\n",
       "      <th>OVERTIME PAY ($)</th>\n",
       "      <th>INJURED PAY ($)</th>\n",
       "      <th>DETAIL PAY ($)</th>\n",
       "      <th>QUINN/EDUCATION INCENTIVE ($)</th>\n",
       "      <th>TOTAL EARNINGS ($)</th>\n",
       "      <th>POSTAL CODE</th>\n",
       "    </tr>\n",
       "  </thead>\n",
       "  <tbody>\n",
       "    <tr>\n",
       "      <th>6818</th>\n",
       "      <td>Morrison June</td>\n",
       "      <td>BPS Business Service</td>\n",
       "      <td>BPS Worker's Comp Job Class</td>\n",
       "      <td>NaN</td>\n",
       "      <td>NaN</td>\n",
       "      <td>NaN</td>\n",
       "      <td>NaN</td>\n",
       "      <td>$67,171.05</td>\n",
       "      <td>NaN</td>\n",
       "      <td>NaN</td>\n",
       "      <td>$67,171.05</td>\n",
       "      <td>NaN</td>\n",
       "    </tr>\n",
       "  </tbody>\n",
       "</table>\n",
       "</div>"
      ],
      "text/plain": [
       "          FULL NAME       DEPARTMENT NAME      EMPLOYEE POSITION TITLE  \\\n",
       "6818  Morrison June  BPS Business Service  BPS Worker's Comp Job Class   \n",
       "\n",
       "     BASE PAY ($) RETRO PAY ($) OTHER PAY ($) OVERTIME PAY ($)  \\\n",
       "6818          NaN           NaN           NaN              NaN   \n",
       "\n",
       "     INJURED PAY ($) DETAIL PAY ($) QUINN/EDUCATION INCENTIVE ($)  \\\n",
       "6818     $67,171.05             NaN                           NaN   \n",
       "\n",
       "     TOTAL EARNINGS ($) POSTAL CODE  \n",
       "6818        $67,171.05          NaN  "
      ]
     },
     "execution_count": 34,
     "metadata": {},
     "output_type": "execute_result"
    }
   ],
   "source": [
    "# The postal value for a full name of employee 'Morrison,June', contains \"BIS 3\"\n",
    "df = df_report_2017['FULL NAME'] == 'Morrison June'\n",
    "display(df_report_2017.loc[df])\n",
    "\n",
    "# Many values in Postal codes are unknown. we have to replace those with NAN.\n",
    "df_report_2017['POSTAL CODE'].loc[22139:22182] # Before cleaning\n",
    "\n",
    "# replacing' UNKNO' in \"POSTAL CODE\" with NaN\n",
    "df_report_2017.replace(to_replace='UNKNO', value=np.nan, inplace=True)\n",
    "\n",
    "#replacing \"B1S 3\" value in \"POSTAL CODE\" with NAN\n",
    "df_report_2017['POSTAL CODE'].replace(to_replace=\"B1S 3\", value=np.nan, inplace=True)\n",
    "df=df_report_2017['FULL NAME']== 'Morrison June'\n",
    "df_report_2017.loc[df]"
   ]
  },
  {
   "cell_type": "markdown",
   "metadata": {},
   "source": [
    "Missing data"
   ]
  },
  {
   "cell_type": "code",
   "execution_count": 42,
   "metadata": {},
   "outputs": [
    {
     "name": "stdout",
     "output_type": "stream",
     "text": [
      "<class 'pandas.core.frame.DataFrame'>\n",
      "RangeIndex: 22245 entries, 0 to 22244\n",
      "Data columns (total 12 columns):\n",
      " #   Column                         Non-Null Count  Dtype \n",
      "---  ------                         --------------  ----- \n",
      " 0   FULL NAME                      22245 non-null  object\n",
      " 1   DEPARTMENT NAME                22245 non-null  object\n",
      " 2   EMPLOYEE POSITION TITLE        22245 non-null  object\n",
      " 3   BASE PAY ($)                   21640 non-null  object\n",
      " 4   RETRO PAY ($)                  3258 non-null   object\n",
      " 5   OTHER PAY ($)                  13083 non-null  object\n",
      " 6   OVERTIME PAY ($)               6783 non-null   object\n",
      " 7   INJURED PAY ($)                1283 non-null   object\n",
      " 8   DETAIL PAY ($)                 2423 non-null   object\n",
      " 9   QUINN/EDUCATION INCENTIVE ($)  1259 non-null   object\n",
      " 10  TOTAL EARNINGS ($)             22245 non-null  object\n",
      " 11  POSTAL CODE                    22195 non-null  object\n",
      "dtypes: object(12)\n",
      "memory usage: 2.0+ MB\n"
     ]
    },
    {
     "data": {
      "text/plain": [
       "FULL NAME                            0\n",
       "DEPARTMENT NAME                      0\n",
       "EMPLOYEE POSITION TITLE              0\n",
       "BASE PAY ($)                       605\n",
       "RETRO PAY ($)                    18987\n",
       "OTHER PAY ($)                     9162\n",
       "OVERTIME PAY ($)                 15462\n",
       "INJURED PAY ($)                  20962\n",
       "DETAIL PAY ($)                   19822\n",
       "QUINN/EDUCATION INCENTIVE ($)    20986\n",
       "TOTAL EARNINGS ($)                   0\n",
       "POSTAL CODE                         50\n",
       "dtype: int64"
      ]
     },
     "execution_count": 42,
     "metadata": {},
     "output_type": "execute_result"
    }
   ],
   "source": [
    "# Null values in all columns(False or True)\n",
    "df_report_2017.isnull().any()\n",
    "df_report_2017.info()\n",
    "\n",
    "# to describe the rows and columns without null values\n",
    "df_report_2017.dropna().describe()\n",
    "\n",
    "# to describe the data set considering all values\n",
    "df_report_2017.describe()\n",
    "\n",
    "# Total NAN values in our data\n",
    "df_report_2017.isnull()\n",
    "df_report_2017.isnull().sum()\n"
   ]
  },
  {
   "cell_type": "markdown",
   "metadata": {},
   "source": [
    "checking the Data Types of the columns"
   ]
  },
  {
   "cell_type": "code",
   "execution_count": 45,
   "metadata": {},
   "outputs": [
    {
     "data": {
      "text/plain": [
       "0        259061.66\n",
       "1        113843.60\n",
       "2        248113.28\n",
       "3        189912.50\n",
       "4        139990.68\n",
       "           ...    \n",
       "22240      3408.02\n",
       "22241      5554.88\n",
       "22242     13220.00\n",
       "22243      2341.00\n",
       "22244     12425.26\n",
       "Name: BASE PAY ($), Length: 22245, dtype: float64"
      ]
     },
     "execution_count": 45,
     "metadata": {},
     "output_type": "execute_result"
    }
   ],
   "source": [
    "# Data types of columns\n",
    "df_report_2017.dtypes\n",
    "\n",
    "# creating a list of required columns where we need to remove the $ symbol\n",
    "cols=[\"BASE PAY ($)\",\"RETRO PAY ($)\",\"OTHER PAY ($)\",\"OVERTIME PAY ($)\",\"INJURED PAY ($)\",\"DETAIL PAY ($)\",\"QUINN/EDUCATION INCENTIVE ($)\",\"TOTAL EARNINGS ($)\"]\n",
    "\n",
    "# Converting all object data type columns to String data type\n",
    "df_report_2017['BASE PAY ($)'] = df_report_2017['BASE PAY ($)'].astype(str)\n",
    "df_report_2017['RETRO PAY ($)'] = df_report_2017['RETRO PAY ($)'].astype(str)\n",
    "df_report_2017['OTHER PAY ($)'] = df_report_2017['OTHER PAY ($)'].astype(str)\n",
    "df_report_2017['OVERTIME PAY ($)'] = df_report_2017['OVERTIME PAY ($)'].astype(str)\n",
    "df_report_2017['INJURED PAY ($)'] = df_report_2017['INJURED PAY ($)'].astype(str)\n",
    "df_report_2017['DETAIL PAY ($)'] = df_report_2017['DETAIL PAY ($)'].astype(str)\n",
    "df_report_2017['QUINN/EDUCATION INCENTIVE ($)'] = df_report_2017['QUINN/EDUCATION INCENTIVE ($)'].astype(str)\n",
    "\n",
    "# Removing the DOLLAR SYMBOL '$' from the pay details columns\n",
    "df_report_2017[cols] = df_report_2017[cols].replace({'\\$': '','\\(': '', '\\)':'', ',': ''}, regex=True)\n",
    "\n",
    "# converting the data type of pay details of employee columns to float Data type\n",
    "df_report_2017[cols] = df_report_2017[cols].astype('float')\n",
    "\n",
    "# Data type of all columns of data set\n",
    "df_report_2017.dtypes\n",
    "\n",
    "# checking whether we can perform any operations or not\n",
    "df_report_2017['BASE PAY ($)'] *2\n",
    "    "
   ]
  },
  {
   "cell_type": "markdown",
   "metadata": {},
   "source": [
    "Dropping few rows with NaN values for better analysis"
   ]
  },
  {
   "cell_type": "code",
   "execution_count": 46,
   "metadata": {},
   "outputs": [
    {
     "data": {
      "text/html": [
       "<div>\n",
       "<style scoped>\n",
       "    .dataframe tbody tr th:only-of-type {\n",
       "        vertical-align: middle;\n",
       "    }\n",
       "\n",
       "    .dataframe tbody tr th {\n",
       "        vertical-align: top;\n",
       "    }\n",
       "\n",
       "    .dataframe thead th {\n",
       "        text-align: right;\n",
       "    }\n",
       "</style>\n",
       "<table border=\"1\" class=\"dataframe\">\n",
       "  <thead>\n",
       "    <tr style=\"text-align: right;\">\n",
       "      <th></th>\n",
       "      <th>FULL NAME</th>\n",
       "      <th>DEPARTMENT NAME</th>\n",
       "      <th>EMPLOYEE POSITION TITLE</th>\n",
       "      <th>BASE PAY ($)</th>\n",
       "      <th>RETRO PAY ($)</th>\n",
       "      <th>OTHER PAY ($)</th>\n",
       "      <th>OVERTIME PAY ($)</th>\n",
       "      <th>INJURED PAY ($)</th>\n",
       "      <th>DETAIL PAY ($)</th>\n",
       "      <th>QUINN/EDUCATION INCENTIVE ($)</th>\n",
       "      <th>TOTAL EARNINGS ($)</th>\n",
       "      <th>POSTAL CODE</th>\n",
       "    </tr>\n",
       "  </thead>\n",
       "  <tbody>\n",
       "    <tr>\n",
       "      <th>3</th>\n",
       "      <td>Whalen Richard L</td>\n",
       "      <td>Boston Police Department</td>\n",
       "      <td>Police Detective</td>\n",
       "      <td>94956.25</td>\n",
       "      <td>4985.32</td>\n",
       "      <td>13591.93</td>\n",
       "      <td>85419.22</td>\n",
       "      <td>58.03</td>\n",
       "      <td>16330.0</td>\n",
       "      <td>19971.01</td>\n",
       "      <td>235311.76</td>\n",
       "      <td>2062</td>\n",
       "    </tr>\n",
       "    <tr>\n",
       "      <th>159</th>\n",
       "      <td>Shoulla Christopher K</td>\n",
       "      <td>Boston Police Department</td>\n",
       "      <td>Police Offc Comm Serv Offc 38</td>\n",
       "      <td>72854.70</td>\n",
       "      <td>2410.37</td>\n",
       "      <td>8364.66</td>\n",
       "      <td>62211.53</td>\n",
       "      <td>21193.90</td>\n",
       "      <td>30406.0</td>\n",
       "      <td>18490.71</td>\n",
       "      <td>215931.87</td>\n",
       "      <td>2339</td>\n",
       "    </tr>\n",
       "    <tr>\n",
       "      <th>178</th>\n",
       "      <td>Colburn Robert P</td>\n",
       "      <td>Boston Police Department</td>\n",
       "      <td>Police Offc Canine 26</td>\n",
       "      <td>14733.76</td>\n",
       "      <td>2170.50</td>\n",
       "      <td>14232.27</td>\n",
       "      <td>2842.65</td>\n",
       "      <td>78984.76</td>\n",
       "      <td>7176.0</td>\n",
       "      <td>18470.46</td>\n",
       "      <td>138610.40</td>\n",
       "      <td>2081</td>\n",
       "    </tr>\n",
       "    <tr>\n",
       "      <th>207</th>\n",
       "      <td>Manning John J</td>\n",
       "      <td>Boston Police Department</td>\n",
       "      <td>Police Officer</td>\n",
       "      <td>29847.00</td>\n",
       "      <td>2457.15</td>\n",
       "      <td>800.00</td>\n",
       "      <td>9265.20</td>\n",
       "      <td>63339.98</td>\n",
       "      <td>11914.0</td>\n",
       "      <td>14733.53</td>\n",
       "      <td>132356.86</td>\n",
       "      <td>2370</td>\n",
       "    </tr>\n",
       "    <tr>\n",
       "      <th>260</th>\n",
       "      <td>Worthy Jeffrey Maurice</td>\n",
       "      <td>Boston Police Department</td>\n",
       "      <td>Police Officer</td>\n",
       "      <td>44597.40</td>\n",
       "      <td>1888.97</td>\n",
       "      <td>5982.59</td>\n",
       "      <td>5838.17</td>\n",
       "      <td>48467.81</td>\n",
       "      <td>10580.0</td>\n",
       "      <td>18318.81</td>\n",
       "      <td>135673.75</td>\n",
       "      <td>2119</td>\n",
       "    </tr>\n",
       "    <tr>\n",
       "      <th>...</th>\n",
       "      <td>...</td>\n",
       "      <td>...</td>\n",
       "      <td>...</td>\n",
       "      <td>...</td>\n",
       "      <td>...</td>\n",
       "      <td>...</td>\n",
       "      <td>...</td>\n",
       "      <td>...</td>\n",
       "      <td>...</td>\n",
       "      <td>...</td>\n",
       "      <td>...</td>\n",
       "      <td>...</td>\n",
       "    </tr>\n",
       "    <tr>\n",
       "      <th>17624</th>\n",
       "      <td>Lizardo Steven</td>\n",
       "      <td>Boston Police Department</td>\n",
       "      <td>Police Officer</td>\n",
       "      <td>82472.43</td>\n",
       "      <td>1443.11</td>\n",
       "      <td>800.00</td>\n",
       "      <td>29693.28</td>\n",
       "      <td>1901.17</td>\n",
       "      <td>7728.0</td>\n",
       "      <td>13457.25</td>\n",
       "      <td>137495.24</td>\n",
       "      <td>2136</td>\n",
       "    </tr>\n",
       "    <tr>\n",
       "      <th>17645</th>\n",
       "      <td>O'Brien Jonathan</td>\n",
       "      <td>Boston Police Department</td>\n",
       "      <td>Police Officer</td>\n",
       "      <td>84709.10</td>\n",
       "      <td>1571.50</td>\n",
       "      <td>800.00</td>\n",
       "      <td>36617.40</td>\n",
       "      <td>33.78</td>\n",
       "      <td>15594.0</td>\n",
       "      <td>6760.63</td>\n",
       "      <td>146086.41</td>\n",
       "      <td>2127</td>\n",
       "    </tr>\n",
       "    <tr>\n",
       "      <th>17649</th>\n",
       "      <td>Gigliello James M</td>\n",
       "      <td>Boston Police Department</td>\n",
       "      <td>Police Officer</td>\n",
       "      <td>53110.39</td>\n",
       "      <td>1253.05</td>\n",
       "      <td>1800.00</td>\n",
       "      <td>16265.53</td>\n",
       "      <td>29909.18</td>\n",
       "      <td>19274.0</td>\n",
       "      <td>13229.06</td>\n",
       "      <td>134841.21</td>\n",
       "      <td>2132</td>\n",
       "    </tr>\n",
       "    <tr>\n",
       "      <th>17664</th>\n",
       "      <td>Leo Rebecca J</td>\n",
       "      <td>Boston Police Department</td>\n",
       "      <td>Police Officer</td>\n",
       "      <td>52761.33</td>\n",
       "      <td>1384.55</td>\n",
       "      <td>800.00</td>\n",
       "      <td>8721.06</td>\n",
       "      <td>31947.77</td>\n",
       "      <td>2668.0</td>\n",
       "      <td>6979.79</td>\n",
       "      <td>105262.50</td>\n",
       "      <td>2131</td>\n",
       "    </tr>\n",
       "    <tr>\n",
       "      <th>18793</th>\n",
       "      <td>McLaughlin Nicholas J</td>\n",
       "      <td>Boston Police Department</td>\n",
       "      <td>Police Officer</td>\n",
       "      <td>67822.59</td>\n",
       "      <td>1072.36</td>\n",
       "      <td>800.00</td>\n",
       "      <td>13220.40</td>\n",
       "      <td>7426.95</td>\n",
       "      <td>17066.0</td>\n",
       "      <td>12114.86</td>\n",
       "      <td>119523.16</td>\n",
       "      <td>2122</td>\n",
       "    </tr>\n",
       "  </tbody>\n",
       "</table>\n",
       "<p>123 rows × 12 columns</p>\n",
       "</div>"
      ],
      "text/plain": [
       "                    FULL NAME           DEPARTMENT NAME  \\\n",
       "3            Whalen Richard L  Boston Police Department   \n",
       "159     Shoulla Christopher K  Boston Police Department   \n",
       "178          Colburn Robert P  Boston Police Department   \n",
       "207            Manning John J  Boston Police Department   \n",
       "260    Worthy Jeffrey Maurice  Boston Police Department   \n",
       "...                       ...                       ...   \n",
       "17624          Lizardo Steven  Boston Police Department   \n",
       "17645        O'Brien Jonathan  Boston Police Department   \n",
       "17649       Gigliello James M  Boston Police Department   \n",
       "17664           Leo Rebecca J  Boston Police Department   \n",
       "18793   McLaughlin Nicholas J  Boston Police Department   \n",
       "\n",
       "             EMPLOYEE POSITION TITLE  BASE PAY ($)  RETRO PAY ($)  \\\n",
       "3                   Police Detective      94956.25        4985.32   \n",
       "159    Police Offc Comm Serv Offc 38      72854.70        2410.37   \n",
       "178            Police Offc Canine 26      14733.76        2170.50   \n",
       "207                   Police Officer      29847.00        2457.15   \n",
       "260                   Police Officer      44597.40        1888.97   \n",
       "...                              ...           ...            ...   \n",
       "17624                 Police Officer      82472.43        1443.11   \n",
       "17645                 Police Officer      84709.10        1571.50   \n",
       "17649                 Police Officer      53110.39        1253.05   \n",
       "17664                 Police Officer      52761.33        1384.55   \n",
       "18793                 Police Officer      67822.59        1072.36   \n",
       "\n",
       "       OTHER PAY ($)  OVERTIME PAY ($)  INJURED PAY ($)  DETAIL PAY ($)  \\\n",
       "3           13591.93          85419.22            58.03         16330.0   \n",
       "159          8364.66          62211.53         21193.90         30406.0   \n",
       "178         14232.27           2842.65         78984.76          7176.0   \n",
       "207           800.00           9265.20         63339.98         11914.0   \n",
       "260          5982.59           5838.17         48467.81         10580.0   \n",
       "...              ...               ...              ...             ...   \n",
       "17624         800.00          29693.28          1901.17          7728.0   \n",
       "17645         800.00          36617.40            33.78         15594.0   \n",
       "17649        1800.00          16265.53         29909.18         19274.0   \n",
       "17664         800.00           8721.06         31947.77          2668.0   \n",
       "18793         800.00          13220.40          7426.95         17066.0   \n",
       "\n",
       "       QUINN/EDUCATION INCENTIVE ($)  TOTAL EARNINGS ($) POSTAL CODE  \n",
       "3                           19971.01           235311.76        2062  \n",
       "159                         18490.71           215931.87        2339  \n",
       "178                         18470.46           138610.40        2081  \n",
       "207                         14733.53           132356.86        2370  \n",
       "260                         18318.81           135673.75        2119  \n",
       "...                              ...                 ...         ...  \n",
       "17624                       13457.25           137495.24        2136  \n",
       "17645                        6760.63           146086.41        2127  \n",
       "17649                       13229.06           134841.21        2132  \n",
       "17664                        6979.79           105262.50        2131  \n",
       "18793                       12114.86           119523.16        2122  \n",
       "\n",
       "[123 rows x 12 columns]"
      ]
     },
     "execution_count": 46,
     "metadata": {},
     "output_type": "execute_result"
    }
   ],
   "source": [
    "# dropping NaN values in BASE PAY , TOTAL EARNINGS and POSTAL CODE columns\n",
    "df_report_2017 = df_report_2017.dropna(subset=['BASE PAY ($)', 'TOTAL EARNINGS ($)','POSTAL CODE'])\n",
    "\n",
    "# I removed all the NAN values in all columns to see who receive all payment options\n",
    "df_report_2017_list = df_report_2017.dropna(subset=['BASE PAY ($)', 'TOTAL EARNINGS ($)','RETRO PAY ($)','OTHER PAY ($)','OVERTIME PAY ($)','INJURED PAY ($)','DETAIL PAY ($)','QUINN/EDUCATION INCENTIVE ($)','POSTAL CODE'])\n",
    "df_report_2017_list"
   ]
  },
  {
   "cell_type": "markdown",
   "metadata": {},
   "source": [
    "Data Exploration"
   ]
  },
  {
   "cell_type": "markdown",
   "metadata": {},
   "source": [
    "Employee with highest base pay"
   ]
  },
  {
   "cell_type": "code",
   "execution_count": 49,
   "metadata": {},
   "outputs": [
    {
     "name": "stdout",
     "output_type": "stream",
     "text": [
      "Name of the employee who gets highest base pay of all departments :  Brown Michael A\n",
      "highest base salary department is : Boston Police Department\n"
     ]
    },
    {
     "data": {
      "text/plain": [
       "FULL NAME                                 Brown Michael A\n",
       "DEPARTMENT NAME                  Boston Police Department\n",
       "EMPLOYEE POSITION TITLE                   Police Sergeant\n",
       "BASE PAY ($)                                       102163\n",
       "RETRO PAY ($)                                     2477.61\n",
       "OTHER PAY ($)                                     8737.68\n",
       "OVERTIME PAY ($)                                  29762.4\n",
       "INJURED PAY ($)                                    2988.3\n",
       "DETAIL PAY ($)                                      61904\n",
       "QUINN/EDUCATION INCENTIVE ($)                       19348\n",
       "TOTAL EARNINGS ($)                                 227381\n",
       "POSTAL CODE                                          2050\n",
       "Name: 9964, dtype: object"
      ]
     },
     "execution_count": 49,
     "metadata": {},
     "output_type": "execute_result"
    }
   ],
   "source": [
    "#To identify which employee in the all departments gets highest base salary and from which area(postal code).\n",
    "high_sal_index = df_report_2017_list['BASE PAY ($)'].idxmax()\n",
    "\n",
    "print(\"Name of the employee who gets highest base pay of all departments : \",df_report_2017_list.loc[high_sal_index]['FULL NAME'])\n",
    "\n",
    "# To know the highest paid (base pay) department \n",
    "print(\"highest base salary department is :\",df_report_2017_list.loc[high_sal_index]['DEPARTMENT NAME'])\n",
    "\n",
    "# To know the entire details of employee with highest base pay\n",
    "df_report_2017_list.loc[high_sal_index]\n"
   ]
  },
  {
   "cell_type": "markdown",
   "metadata": {},
   "source": [
    "Highly educated employee"
   ]
  },
  {
   "cell_type": "code",
   "execution_count": 50,
   "metadata": {},
   "outputs": [
    {
     "name": "stdout",
     "output_type": "stream",
     "text": [
      " The employee who is highly educated and gets high QUINN incentive is : Difazio Vincent J\n"
     ]
    },
    {
     "data": {
      "text/plain": [
       "FULL NAME                               Difazio Vincent J\n",
       "DEPARTMENT NAME                  Boston Police Department\n",
       "EMPLOYEE POSITION TITLE                  Police Detective\n",
       "BASE PAY ($)                                      37969.1\n",
       "RETRO PAY ($)                                      1977.4\n",
       "OTHER PAY ($)                                     9548.65\n",
       "OVERTIME PAY ($)                                  31197.2\n",
       "INJURED PAY ($)                                   60872.1\n",
       "DETAIL PAY ($)                                       8740\n",
       "QUINN/EDUCATION INCENTIVE ($)                     20670.5\n",
       "TOTAL EARNINGS ($)                                 170975\n",
       "POSTAL CODE                                          2351\n",
       "Name: 363, dtype: object"
      ]
     },
     "execution_count": 50,
     "metadata": {},
     "output_type": "execute_result"
    }
   ],
   "source": [
    "#To identify which employee is highly educated based on the QUINN/EDUCATION INCENTIVE\n",
    " \n",
    "high_pay_quinn_index = df_report_2017_list['QUINN/EDUCATION INCENTIVE ($)'].idxmax()\n",
    "print(\" The employee who is highly educated and gets high QUINN incentive is :\",df_report_2017_list.loc[high_pay_quinn_index]['FULL NAME'])\n",
    "\n",
    "# The details of the employee with highest education qualification and gets high quinn incentive\n",
    "df_report_2017_list.loc[high_pay_quinn_index]\n"
   ]
  },
  {
   "cell_type": "markdown",
   "metadata": {},
   "source": [
    "Employee who works for long hours"
   ]
  },
  {
   "cell_type": "code",
   "execution_count": 51,
   "metadata": {},
   "outputs": [
    {
     "name": "stdout",
     "output_type": "stream",
     "text": [
      " The employee who get high overtime pay is : Whalen Richard L\n"
     ]
    },
    {
     "data": {
      "text/plain": [
       "FULL NAME                                Whalen Richard L\n",
       "DEPARTMENT NAME                  Boston Police Department\n",
       "EMPLOYEE POSITION TITLE                  Police Detective\n",
       "BASE PAY ($)                                      94956.2\n",
       "RETRO PAY ($)                                     4985.32\n",
       "OTHER PAY ($)                                     13591.9\n",
       "OVERTIME PAY ($)                                  85419.2\n",
       "INJURED PAY ($)                                     58.03\n",
       "DETAIL PAY ($)                                      16330\n",
       "QUINN/EDUCATION INCENTIVE ($)                       19971\n",
       "TOTAL EARNINGS ($)                                 235312\n",
       "POSTAL CODE                                          2062\n",
       "Name: 3, dtype: object"
      ]
     },
     "execution_count": 51,
     "metadata": {},
     "output_type": "execute_result"
    }
   ],
   "source": [
    "#To identify the employee who is working for long hours based on highest OVERTIME payment\n",
    "high_pay_overtime_index = df_report_2017_list['OVERTIME PAY ($)'].idxmax()\n",
    "print(\" The employee who get high overtime pay is :\",df_report_2017_list.loc[high_pay_overtime_index]['FULL NAME'])\n",
    "\n",
    "# Details of the employee\n",
    "df_report_2017_list.loc[high_pay_overtime_index]\n"
   ]
  },
  {
   "cell_type": "markdown",
   "metadata": {},
   "source": [
    "Employee with highest earnings"
   ]
  },
  {
   "cell_type": "code",
   "execution_count": 52,
   "metadata": {},
   "outputs": [
    {
     "name": "stdout",
     "output_type": "stream",
     "text": [
      " The employee who earns more : Almeida Ismael Lopes\n"
     ]
    },
    {
     "data": {
      "text/plain": [
       "FULL NAME                            Almeida Ismael Lopes\n",
       "DEPARTMENT NAME                  Boston Police Department\n",
       "EMPLOYEE POSITION TITLE                    Police Officer\n",
       "BASE PAY ($)                                      86918.1\n",
       "RETRO PAY ($)                                     5650.64\n",
       "OTHER PAY ($)                                         800\n",
       "OVERTIME PAY ($)                                  24288.6\n",
       "INJURED PAY ($)                                    654.55\n",
       "DETAIL PAY ($)                                     126822\n",
       "QUINN/EDUCATION INCENTIVE ($)                     13961.8\n",
       "TOTAL EARNINGS ($)                                 259096\n",
       "POSTAL CODE                                          2124\n",
       "Name: 10929, dtype: object"
      ]
     },
     "execution_count": 52,
     "metadata": {},
     "output_type": "execute_result"
    }
   ],
   "source": [
    "# Overall which employee has highest total earnings( adding all payment details)\n",
    "\n",
    "high_earnings_index = df_report_2017_list['TOTAL EARNINGS ($)'].idxmax()\n",
    "print(\" The employee who earns more :\",df_report_2017_list.loc[high_earnings_index]['FULL NAME'])\n",
    "\n",
    "# Details of the employee\n",
    "df_report_2017_list.loc[high_earnings_index]"
   ]
  },
  {
   "cell_type": "markdown",
   "metadata": {},
   "source": [
    "Employee with least earnings"
   ]
  },
  {
   "cell_type": "code",
   "execution_count": 53,
   "metadata": {},
   "outputs": [
    {
     "name": "stdout",
     "output_type": "stream",
     "text": [
      " The employee who earns very less : Leo Rebecca J\n"
     ]
    },
    {
     "data": {
      "text/plain": [
       "FULL NAME                                   Leo Rebecca J\n",
       "DEPARTMENT NAME                  Boston Police Department\n",
       "EMPLOYEE POSITION TITLE                    Police Officer\n",
       "BASE PAY ($)                                      52761.3\n",
       "RETRO PAY ($)                                     1384.55\n",
       "OTHER PAY ($)                                         800\n",
       "OVERTIME PAY ($)                                  8721.06\n",
       "INJURED PAY ($)                                   31947.8\n",
       "DETAIL PAY ($)                                       2668\n",
       "QUINN/EDUCATION INCENTIVE ($)                     6979.79\n",
       "TOTAL EARNINGS ($)                                 105262\n",
       "POSTAL CODE                                          2131\n",
       "Name: 17664, dtype: object"
      ]
     },
     "execution_count": 53,
     "metadata": {},
     "output_type": "execute_result"
    }
   ],
   "source": [
    "# Overall which employee has highest total earnings( adding all payment details)\n",
    "least_earnings_index = df_report_2017_list['TOTAL EARNINGS ($)'].idxmin()\n",
    "print(\" The employee who earns very less :\",df_report_2017_list.loc[least_earnings_index]['FULL NAME'])\n",
    "\n",
    "# Details of the employee\n",
    "df_report_2017_list.loc[least_earnings_index]\n"
   ]
  },
  {
   "cell_type": "markdown",
   "metadata": {},
   "source": [
    "Data Visualization"
   ]
  },
  {
   "cell_type": "markdown",
   "metadata": {},
   "source": [
    "Identifying Top 10 Employees with high earnings who receive all payments"
   ]
  },
  {
   "cell_type": "code",
   "execution_count": 54,
   "metadata": {},
   "outputs": [
    {
     "name": "stderr",
     "output_type": "stream",
     "text": [
      "e:\\softwares\\anacondafolder\\envs\\automatestuff\\lib\\site-packages\\ipykernel_launcher.py:2: SettingWithCopyWarning: \n",
      "A value is trying to be set on a copy of a slice from a DataFrame\n",
      "\n",
      "See the caveats in the documentation: https://pandas.pydata.org/pandas-docs/stable/user_guide/indexing.html#returning-a-view-versus-a-copy\n",
      "  \n"
     ]
    },
    {
     "data": {
      "text/html": [
       "<div>\n",
       "<style scoped>\n",
       "    .dataframe tbody tr th:only-of-type {\n",
       "        vertical-align: middle;\n",
       "    }\n",
       "\n",
       "    .dataframe tbody tr th {\n",
       "        vertical-align: top;\n",
       "    }\n",
       "\n",
       "    .dataframe thead th {\n",
       "        text-align: right;\n",
       "    }\n",
       "</style>\n",
       "<table border=\"1\" class=\"dataframe\">\n",
       "  <thead>\n",
       "    <tr style=\"text-align: right;\">\n",
       "      <th></th>\n",
       "      <th>FULL NAME</th>\n",
       "      <th>DEPARTMENT NAME</th>\n",
       "      <th>EMPLOYEE POSITION TITLE</th>\n",
       "      <th>BASE PAY ($)</th>\n",
       "      <th>RETRO PAY ($)</th>\n",
       "      <th>OTHER PAY ($)</th>\n",
       "      <th>OVERTIME PAY ($)</th>\n",
       "      <th>INJURED PAY ($)</th>\n",
       "      <th>DETAIL PAY ($)</th>\n",
       "      <th>QUINN/EDUCATION INCENTIVE ($)</th>\n",
       "      <th>TOTAL EARNINGS ($)</th>\n",
       "      <th>POSTAL CODE</th>\n",
       "    </tr>\n",
       "  </thead>\n",
       "  <tbody>\n",
       "    <tr>\n",
       "      <th>10929</th>\n",
       "      <td>Almeida Ismael Lopes</td>\n",
       "      <td>Boston Police Department</td>\n",
       "      <td>Police Officer</td>\n",
       "      <td>86918.09</td>\n",
       "      <td>5650.64</td>\n",
       "      <td>800.00</td>\n",
       "      <td>24288.60</td>\n",
       "      <td>654.55</td>\n",
       "      <td>126822.0</td>\n",
       "      <td>13961.83</td>\n",
       "      <td>259095.71</td>\n",
       "      <td>2124</td>\n",
       "    </tr>\n",
       "    <tr>\n",
       "      <th>3</th>\n",
       "      <td>Whalen Richard L</td>\n",
       "      <td>Boston Police Department</td>\n",
       "      <td>Police Detective</td>\n",
       "      <td>94956.25</td>\n",
       "      <td>4985.32</td>\n",
       "      <td>13591.93</td>\n",
       "      <td>85419.22</td>\n",
       "      <td>58.03</td>\n",
       "      <td>16330.0</td>\n",
       "      <td>19971.01</td>\n",
       "      <td>235311.76</td>\n",
       "      <td>2062</td>\n",
       "    </tr>\n",
       "    <tr>\n",
       "      <th>5580</th>\n",
       "      <td>Gero Jarrod A</td>\n",
       "      <td>Boston Police Department</td>\n",
       "      <td>Police Detective</td>\n",
       "      <td>84757.51</td>\n",
       "      <td>14709.90</td>\n",
       "      <td>3979.71</td>\n",
       "      <td>84081.42</td>\n",
       "      <td>3422.78</td>\n",
       "      <td>22080.0</td>\n",
       "      <td>15216.29</td>\n",
       "      <td>228247.61</td>\n",
       "      <td>2132</td>\n",
       "    </tr>\n",
       "    <tr>\n",
       "      <th>9964</th>\n",
       "      <td>Brown Michael A</td>\n",
       "      <td>Boston Police Department</td>\n",
       "      <td>Police Sergeant</td>\n",
       "      <td>102162.90</td>\n",
       "      <td>2477.61</td>\n",
       "      <td>8737.68</td>\n",
       "      <td>29762.42</td>\n",
       "      <td>2988.30</td>\n",
       "      <td>61904.0</td>\n",
       "      <td>19348.03</td>\n",
       "      <td>227380.94</td>\n",
       "      <td>2050</td>\n",
       "    </tr>\n",
       "    <tr>\n",
       "      <th>1093</th>\n",
       "      <td>Maloney Thomas F</td>\n",
       "      <td>Boston Police Department</td>\n",
       "      <td>Police Officer</td>\n",
       "      <td>90200.16</td>\n",
       "      <td>3557.76</td>\n",
       "      <td>4213.04</td>\n",
       "      <td>7882.04</td>\n",
       "      <td>1432.50</td>\n",
       "      <td>102350.0</td>\n",
       "      <td>14318.16</td>\n",
       "      <td>223953.66</td>\n",
       "      <td>2127</td>\n",
       "    </tr>\n",
       "    <tr>\n",
       "      <th>676</th>\n",
       "      <td>Fleming Edward J</td>\n",
       "      <td>Boston Police Department</td>\n",
       "      <td>Police Officer</td>\n",
       "      <td>90498.50</td>\n",
       "      <td>6744.43</td>\n",
       "      <td>9572.86</td>\n",
       "      <td>34129.15</td>\n",
       "      <td>683.45</td>\n",
       "      <td>66424.0</td>\n",
       "      <td>14504.06</td>\n",
       "      <td>222556.45</td>\n",
       "      <td>2360</td>\n",
       "    </tr>\n",
       "    <tr>\n",
       "      <th>1009</th>\n",
       "      <td>James Alfred A</td>\n",
       "      <td>Boston Police Department</td>\n",
       "      <td>Police Officer</td>\n",
       "      <td>67578.97</td>\n",
       "      <td>2796.07</td>\n",
       "      <td>8442.90</td>\n",
       "      <td>47050.73</td>\n",
       "      <td>26751.21</td>\n",
       "      <td>48806.0</td>\n",
       "      <td>14525.53</td>\n",
       "      <td>215951.41</td>\n",
       "      <td>2301</td>\n",
       "    </tr>\n",
       "    <tr>\n",
       "      <th>159</th>\n",
       "      <td>Shoulla Christopher K</td>\n",
       "      <td>Boston Police Department</td>\n",
       "      <td>Police Offc Comm Serv Offc 38</td>\n",
       "      <td>72854.70</td>\n",
       "      <td>2410.37</td>\n",
       "      <td>8364.66</td>\n",
       "      <td>62211.53</td>\n",
       "      <td>21193.90</td>\n",
       "      <td>30406.0</td>\n",
       "      <td>18490.71</td>\n",
       "      <td>215931.87</td>\n",
       "      <td>2339</td>\n",
       "    </tr>\n",
       "    <tr>\n",
       "      <th>518</th>\n",
       "      <td>Aviles Elvin</td>\n",
       "      <td>Boston Police Department</td>\n",
       "      <td>Police Officer</td>\n",
       "      <td>93180.42</td>\n",
       "      <td>2305.80</td>\n",
       "      <td>4091.29</td>\n",
       "      <td>37800.10</td>\n",
       "      <td>47.57</td>\n",
       "      <td>61456.0</td>\n",
       "      <td>14733.53</td>\n",
       "      <td>213614.71</td>\n",
       "      <td>2131</td>\n",
       "    </tr>\n",
       "    <tr>\n",
       "      <th>1304</th>\n",
       "      <td>Hill Dudley N</td>\n",
       "      <td>Boston Police Department</td>\n",
       "      <td>Police Officer</td>\n",
       "      <td>90908.77</td>\n",
       "      <td>6696.18</td>\n",
       "      <td>4123.00</td>\n",
       "      <td>56186.33</td>\n",
       "      <td>664.60</td>\n",
       "      <td>37858.0</td>\n",
       "      <td>14543.20</td>\n",
       "      <td>210980.08</td>\n",
       "      <td>2136</td>\n",
       "    </tr>\n",
       "  </tbody>\n",
       "</table>\n",
       "</div>"
      ],
      "text/plain": [
       "                   FULL NAME           DEPARTMENT NAME  \\\n",
       "10929   Almeida Ismael Lopes  Boston Police Department   \n",
       "3           Whalen Richard L  Boston Police Department   \n",
       "5580           Gero Jarrod A  Boston Police Department   \n",
       "9964         Brown Michael A  Boston Police Department   \n",
       "1093        Maloney Thomas F  Boston Police Department   \n",
       "676         Fleming Edward J  Boston Police Department   \n",
       "1009          James Alfred A  Boston Police Department   \n",
       "159    Shoulla Christopher K  Boston Police Department   \n",
       "518             Aviles Elvin  Boston Police Department   \n",
       "1304           Hill Dudley N  Boston Police Department   \n",
       "\n",
       "             EMPLOYEE POSITION TITLE  BASE PAY ($)  RETRO PAY ($)  \\\n",
       "10929                 Police Officer      86918.09        5650.64   \n",
       "3                   Police Detective      94956.25        4985.32   \n",
       "5580                Police Detective      84757.51       14709.90   \n",
       "9964                 Police Sergeant     102162.90        2477.61   \n",
       "1093                  Police Officer      90200.16        3557.76   \n",
       "676                   Police Officer      90498.50        6744.43   \n",
       "1009                  Police Officer      67578.97        2796.07   \n",
       "159    Police Offc Comm Serv Offc 38      72854.70        2410.37   \n",
       "518                   Police Officer      93180.42        2305.80   \n",
       "1304                  Police Officer      90908.77        6696.18   \n",
       "\n",
       "       OTHER PAY ($)  OVERTIME PAY ($)  INJURED PAY ($)  DETAIL PAY ($)  \\\n",
       "10929         800.00          24288.60           654.55        126822.0   \n",
       "3           13591.93          85419.22            58.03         16330.0   \n",
       "5580         3979.71          84081.42          3422.78         22080.0   \n",
       "9964         8737.68          29762.42          2988.30         61904.0   \n",
       "1093         4213.04           7882.04          1432.50        102350.0   \n",
       "676          9572.86          34129.15           683.45         66424.0   \n",
       "1009         8442.90          47050.73         26751.21         48806.0   \n",
       "159          8364.66          62211.53         21193.90         30406.0   \n",
       "518          4091.29          37800.10            47.57         61456.0   \n",
       "1304         4123.00          56186.33           664.60         37858.0   \n",
       "\n",
       "       QUINN/EDUCATION INCENTIVE ($)  TOTAL EARNINGS ($) POSTAL CODE  \n",
       "10929                       13961.83           259095.71        2124  \n",
       "3                           19971.01           235311.76        2062  \n",
       "5580                        15216.29           228247.61        2132  \n",
       "9964                        19348.03           227380.94        2050  \n",
       "1093                        14318.16           223953.66        2127  \n",
       "676                         14504.06           222556.45        2360  \n",
       "1009                        14525.53           215951.41        2301  \n",
       "159                         18490.71           215931.87        2339  \n",
       "518                         14733.53           213614.71        2131  \n",
       "1304                        14543.20           210980.08        2136  "
      ]
     },
     "execution_count": 54,
     "metadata": {},
     "output_type": "execute_result"
    }
   ],
   "source": [
    "# sorting the data set based on the TOTAL EARNINGS\n",
    "df_report_2017_list.sort_values('TOTAL EARNINGS ($)', ascending=False, inplace=True)\n",
    "top_earning_employees = df_report_2017_list.head(10)\n",
    "top_earning_employees"
   ]
  },
  {
   "cell_type": "markdown",
   "metadata": {},
   "source": [
    "Total Earnings of employees in different areas (postal codes)"
   ]
  },
  {
   "cell_type": "code",
   "execution_count": 56,
   "metadata": {},
   "outputs": [
    {
     "data": {
      "text/plain": [
       "<matplotlib.axes._subplots.AxesSubplot at 0x208cd7ded30>"
      ]
     },
     "execution_count": 56,
     "metadata": {},
     "output_type": "execute_result"
    },
    {
     "data": {
      "image/png": "[encoded data removed]",
      "text/plain": [
       "<Figure size 432x288 with 1 Axes>"
      ]
     },
     "metadata": {
      "needs_background": "light"
     },
     "output_type": "display_data"
    }
   ],
   "source": [
    "# TOTAL EARNINGS of employees in different postal code areas\n",
    "top_earning_employees.groupby(\"POSTAL CODE\")[\"TOTAL EARNINGS ($)\"].mean().plot(kind=\"bar\")"
   ]
  },
  {
   "cell_type": "markdown",
   "metadata": {},
   "source": [
    "position of Employee with higher base pay"
   ]
  },
  {
   "cell_type": "code",
   "execution_count": 61,
   "metadata": {},
   "outputs": [
    {
     "data": {
      "text/plain": [
       "[None, None, None, None, None, None, None, None]"
      ]
     },
     "execution_count": 61,
     "metadata": {},
     "output_type": "execute_result"
    },
    {
     "data": {
      "image/png": "[encoded data removed]",
      "text/plain": [
       "<Figure size 432x288 with 1 Axes>"
      ]
     },
     "metadata": {
      "needs_background": "light"
     },
     "output_type": "display_data"
    }
   ],
   "source": [
    "# Position of the employee who receives high BASE PAY \n",
    "ax=top_earning_employees.groupby('EMPLOYEE POSITION TITLE')['BASE PAY ($)'].mean().plot(kind='bar')\n",
    "plt.ylabel('BASE PAY ($)')\n",
    "plt.title(\"AVERAGE BASE PAY vs TITLE\")\n",
    "plt.setp(ax.get_xticklabels(),rotation=30, horizontalalignment='right')"
   ]
  },
  {
   "cell_type": "markdown",
   "metadata": {},
   "source": [
    "Box plot for Total earnings based on department"
   ]
  },
  {
   "cell_type": "code",
   "execution_count": 63,
   "metadata": {},
   "outputs": [
    {
     "data": {
      "text/plain": [
       "<matplotlib.axes._subplots.AxesSubplot at 0x208cea766a0>"
      ]
     },
     "execution_count": 63,
     "metadata": {},
     "output_type": "execute_result"
    },
    {
     "data": {
      "image/png": "[encoded data removed]",
      "text/plain": [
       "<Figure size 432x288 with 1 Axes>"
      ]
     },
     "metadata": {
      "needs_background": "light"
     },
     "output_type": "display_data"
    }
   ],
   "source": [
    "sns.boxplot(x=\"DEPARTMENT NAME\", y=\"TOTAL EARNINGS ($)\", data=top_earning_employees)"
   ]
  },
  {
   "cell_type": "markdown",
   "metadata": {},
   "source": [
    "Identifying which type of pay contributed more to total earnings in different postal areas"
   ]
  },
  {
   "cell_type": "code",
   "execution_count": 64,
   "metadata": {},
   "outputs": [
    {
     "data": {
      "image/png": "[encoded data removed]",
      "text/plain": [
       "<Figure size 432x288 with 1 Axes>"
      ]
     },
     "metadata": {
      "needs_background": "light"
     },
     "output_type": "display_data"
    }
   ],
   "source": [
    "a=top_earning_employees['BASE PAY ($)']\n",
    "b=top_earning_employees['DETAIL PAY ($)']\n",
    "c=top_earning_employees['OTHER PAY ($)']\n",
    "i=top_earning_employees['OVERTIME PAY ($)']\n",
    "d=top_earning_employees['RETRO PAY ($)']\n",
    "f=top_earning_employees['INJURED PAY ($)']\n",
    "g=top_earning_employees['QUINN/EDUCATION INCENTIVE ($)']\n",
    "h=top_earning_employees['POSTAL CODE']\n",
    "plt.bar(h,a, bottom=b+c+d+f+g+i, color='gold') #BASE PAY\n",
    "plt.bar(h,d, bottom=b+c+f+g+i, color='darkmagenta') #RETRO PAY\n",
    "plt.bar(h,c,bottom=b+f+g+i,color='crimson')  # OTHER PAY\n",
    "plt.bar(h,i,bottom=b+f+g,color='aqua')     # OVERTIME PAY\n",
    "plt.bar(h,f,bottom=b+g,color='olive') # INJURED PAY \n",
    "plt.bar(h,b,bottom=g)   #DETAIL PAY\n",
    "plt.bar(h,g)   #QUINN/EDUCATION INCENTIVE\n",
    "plt.title('POSTAL CODE VS TOTAL EARNINGS')\n",
    "plt.xlabel(\"POSTAL CODES\")\n",
    "plt.ylabel(\"TOTAL EARNINGS ($)\")\n",
    "plt.show()"
   ]
  },
  {
   "cell_type": "markdown",
   "metadata": {},
   "source": [
    "Histograms for all pay columns"
   ]
  },
  {
   "cell_type": "code",
   "execution_count": 66,
   "metadata": {},
   "outputs": [
    {
     "data": {
      "image/png": "[encoded data removed]",
      "text/plain": [
       "<Figure size 1440x1080 with 9 Axes>"
      ]
     },
     "metadata": {
      "needs_background": "light"
     },
     "output_type": "display_data"
    },
    {
     "data": {
      "text/plain": [
       "<matplotlib.axes._subplots.AxesSubplot at 0x208cdde8048>"
      ]
     },
     "execution_count": 66,
     "metadata": {},
     "output_type": "execute_result"
    },
    {
     "data": {
      "image/png": "[encoded data removed]",
      "text/plain": [
       "<Figure size 432x288 with 1 Axes>"
      ]
     },
     "metadata": {
      "needs_background": "light"
     },
     "output_type": "display_data"
    }
   ],
   "source": [
    "# Histograms for all pay columns\n",
    "top_earning_employees.hist(bins=15, figsize=(20,15))\n",
    "plt.ylabel('Frequency')\n",
    "plt.show()\n",
    "# distribution plot\n",
    "sns.distplot(top_earning_employees['BASE PAY ($)'])\n",
    "sns.distplot(top_earning_employees['DETAIL PAY ($)'])"
   ]
  },
  {
   "cell_type": "markdown",
   "metadata": {},
   "source": [
    "lmplot for Quinn pay and base pay"
   ]
  },
  {
   "cell_type": "code",
   "execution_count": 72,
   "metadata": {},
   "outputs": [
    {
     "data": {
      "text/plain": [
       "<seaborn.axisgrid.FacetGrid at 0x208ce1b8a20>"
      ]
     },
     "execution_count": 72,
     "metadata": {},
     "output_type": "execute_result"
    },
    {
     "data": {
      "image/png": "[encoded data removed]",
      "text/plain": [
       "<Figure size 525.875x360 with 1 Axes>"
      ]
     },
     "metadata": {
      "needs_background": "light"
     },
     "output_type": "display_data"
    }
   ],
   "source": [
    "import seaborn as sns\n",
    "sns.lmplot(x='QUINN/EDUCATION INCENTIVE ($)', y='BASE PAY ($)',hue='DEPARTMENT NAME', data=df_report_2017_list)"
   ]
  },
  {
   "cell_type": "code",
   "execution_count": null,
   "metadata": {},
   "outputs": [],
   "source": []
  }
 ],
 "metadata": {
  "kernelspec": {
   "display_name": "Python 3",
   "language": "python",
   "name": "python3"
  },
  "language_info": {
   "codemirror_mode": {
    "name": "ipython",
    "version": 3
   },
   "file_extension": ".py",
   "mimetype": "text/x-python",
   "name": "python",
   "nbconvert_exporter": "python",
   "pygments_lexer": "ipython3",
   "version": "3.6.7"
  }
 },
 "nbformat": 4,
 "nbformat_minor": 4
}
